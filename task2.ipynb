{
 "cells": [
  {
   "cell_type": "markdown",
   "metadata": {},
   "source": [
    "# Applied Machine Learning Homework 4\n",
    "\n",
    "## Predicting wine quality from review texts and other properties of the wine\n",
    "### https://www.kaggle.com/zynicide/wine-reviews\n",
    "\n",
    "Due: Wed 04/22/20 1pm\n",
    "\n",
    "Alberto Munguia Cisneros\n",
    "\n",
    "UNI: am5334"
   ]
  },
  {
   "cell_type": "markdown",
   "metadata": {},
   "source": [
    "## Task 2 Word Vectors"
   ]
  },
  {
   "cell_type": "markdown",
   "metadata": {},
   "source": [
    "**Important Note: This note book cannot run independently, because some of the inputs came from the procedures in Task 1**"
   ]
  },
  {
   "cell_type": "markdown",
   "metadata": {},
   "source": [
    "### Model fit with Word2vec"
   ]
  },
  {
   "cell_type": "code",
   "execution_count": 79,
   "metadata": {},
   "outputs": [],
   "source": [
    "import spacy"
   ]
  },
  {
   "cell_type": "code",
   "execution_count": 80,
   "metadata": {},
   "outputs": [],
   "source": [
    "nlp = spacy.load(\"en_core_web_lg\", disable=[\"tagger\", \"parser\", \"ner\"])"
   ]
  },
  {
   "cell_type": "code",
   "execution_count": 81,
   "metadata": {},
   "outputs": [],
   "source": [
    "docs_train = [nlp(d).vector for d in X_train_s.txt[:]]\n",
    "docs_test = [nlp(d).vector for d in X_test_s.txt[:]]"
   ]
  },
  {
   "cell_type": "code",
   "execution_count": 82,
   "metadata": {},
   "outputs": [],
   "source": [
    "X_train_spacy = np.vstack(docs_train)\n",
    "X_test_spacy = np.vstack(docs_test)"
   ]
  },
  {
   "cell_type": "code",
   "execution_count": 83,
   "metadata": {},
   "outputs": [
    {
     "data": {
      "text/html": [
       "<div>\n",
       "<style scoped>\n",
       "    .dataframe tbody tr th:only-of-type {\n",
       "        vertical-align: middle;\n",
       "    }\n",
       "\n",
       "    .dataframe tbody tr th {\n",
       "        vertical-align: top;\n",
       "    }\n",
       "\n",
       "    .dataframe thead th {\n",
       "        text-align: right;\n",
       "    }\n",
       "</style>\n",
       "<table border=\"1\" class=\"dataframe\">\n",
       "  <thead>\n",
       "    <tr style=\"text-align: right;\">\n",
       "      <th></th>\n",
       "      <th>fit_time</th>\n",
       "      <th>score_time</th>\n",
       "      <th>test_r2</th>\n",
       "      <th>test_neg_mean_squared_error</th>\n",
       "      <th>test_neg_mean_absolute_error</th>\n",
       "      <th>test_explained_variance</th>\n",
       "    </tr>\n",
       "  </thead>\n",
       "  <tbody>\n",
       "    <tr>\n",
       "      <th>0</th>\n",
       "      <td>0.048869</td>\n",
       "      <td>0.001995</td>\n",
       "      <td>0.594263</td>\n",
       "      <td>-3.982696</td>\n",
       "      <td>-1.602234</td>\n",
       "      <td>0.594526</td>\n",
       "    </tr>\n",
       "    <tr>\n",
       "      <th>1</th>\n",
       "      <td>0.030616</td>\n",
       "      <td>0.000000</td>\n",
       "      <td>0.566083</td>\n",
       "      <td>-4.101812</td>\n",
       "      <td>-1.589008</td>\n",
       "      <td>0.572427</td>\n",
       "    </tr>\n",
       "    <tr>\n",
       "      <th>2</th>\n",
       "      <td>0.031254</td>\n",
       "      <td>0.000000</td>\n",
       "      <td>0.539652</td>\n",
       "      <td>-4.275713</td>\n",
       "      <td>-1.623702</td>\n",
       "      <td>0.540677</td>\n",
       "    </tr>\n",
       "    <tr>\n",
       "      <th>3</th>\n",
       "      <td>0.031234</td>\n",
       "      <td>0.000000</td>\n",
       "      <td>0.591914</td>\n",
       "      <td>-3.626114</td>\n",
       "      <td>-1.496024</td>\n",
       "      <td>0.592772</td>\n",
       "    </tr>\n",
       "    <tr>\n",
       "      <th>4</th>\n",
       "      <td>0.031238</td>\n",
       "      <td>0.000000</td>\n",
       "      <td>0.582948</td>\n",
       "      <td>-4.097269</td>\n",
       "      <td>-1.619264</td>\n",
       "      <td>0.583235</td>\n",
       "    </tr>\n",
       "  </tbody>\n",
       "</table>\n",
       "</div>"
      ],
      "text/plain": [
       "   fit_time  score_time   test_r2  test_neg_mean_squared_error  \\\n",
       "0  0.048869    0.001995  0.594263                    -3.982696   \n",
       "1  0.030616    0.000000  0.566083                    -4.101812   \n",
       "2  0.031254    0.000000  0.539652                    -4.275713   \n",
       "3  0.031234    0.000000  0.591914                    -3.626114   \n",
       "4  0.031238    0.000000  0.582948                    -4.097269   \n",
       "\n",
       "   test_neg_mean_absolute_error  test_explained_variance  \n",
       "0                     -1.602234                 0.594526  \n",
       "1                     -1.589008                 0.572427  \n",
       "2                     -1.623702                 0.540677  \n",
       "3                     -1.496024                 0.592772  \n",
       "4                     -1.619264                 0.583235  "
      ]
     },
     "execution_count": 83,
     "metadata": {},
     "output_type": "execute_result"
    }
   ],
   "source": [
    "ridge = Ridge()\n",
    "\n",
    "res = cross_validate(ridge,X_train_spacy, y_train, scoring=['r2', 'neg_mean_squared_error','neg_mean_absolute_error',\n",
    "                                                         'explained_variance'], return_train_score=False, cv=ss)\n",
    "pd.DataFrame(res)"
   ]
  },
  {
   "cell_type": "code",
   "execution_count": 84,
   "metadata": {},
   "outputs": [
    {
     "name": "stdout",
     "output_type": "stream",
     "text": [
      "Average R^2 in Cross_validation : 0.57497\n",
      "R^2 in the Test set : 0.59656\n"
     ]
    }
   ],
   "source": [
    "ridge.fit(X_train_spacy, y_train)\n",
    "test_score = ridge.score(X_test_spacy , y_test)\n",
    "print('Average R^2 in Cross_validation : {:.5f}'.format(res['test_r2'].mean()))\n",
    "print('R^2 in the Test set : {:.5f}'.format(test_score))"
   ]
  },
  {
   "cell_type": "markdown",
   "metadata": {},
   "source": [
    "- **Grid-Search with Word2Vec**"
   ]
  },
  {
   "cell_type": "code",
   "execution_count": 85,
   "metadata": {},
   "outputs": [
    {
     "name": "stdout",
     "output_type": "stream",
     "text": [
      "Ridge best parameters: {'alpha': 0.615848211066026}\n",
      "Ridge best R^2: 0.57479\n"
     ]
    }
   ],
   "source": [
    "ridge = Ridge(max_iter=5000)\n",
    "\n",
    "ridge_param_grid = {'alpha': np.logspace(-4, 5, 20) }\n",
    "ridge_gcv = GridSearchCV(ridge, param_grid = ridge_param_grid ,cv=ss, return_train_score=True)\n",
    "ridge_gcv.fit(X_train_spacy, y_train)\n",
    "print('Ridge best parameters: {}'.format(ridge_gcv.best_params_))\n",
    "print('Ridge best R^2: {:.5f}'.format(ridge_gcv.best_score_))"
   ]
  },
  {
   "cell_type": "code",
   "execution_count": 86,
   "metadata": {},
   "outputs": [
    {
     "name": "stdout",
     "output_type": "stream",
     "text": [
      "R^2 in the Test set : 0.59725\n"
     ]
    }
   ],
   "source": [
    "test_accuray_ridge = ridge_gcv.best_estimator_.score(X_test_spacy , y_test)\n",
    "print('R^2 in the Test set : {:.5f}'.format(test_accuray_ridge))"
   ]
  },
  {
   "cell_type": "code",
   "execution_count": 87,
   "metadata": {
    "scrolled": false
   },
   "outputs": [
    {
     "data": {
      "image/png": "[encoded data removed]",
      "text/plain": [
       "<Figure size 864x504 with 3 Axes>"
      ]
     },
     "metadata": {
      "needs_background": "light"
     },
     "output_type": "display_data"
    }
   ],
   "source": [
    "pred = ridge_gcv.best_estimator_.predict(X_test_spacy)\n",
    "\n",
    "plt.figure(figsize=(12,7))\n",
    "ax11 = plt.subplot(2, 2, 1)\n",
    "ax12 = plt.subplot(2, 2, 2)\n",
    "ax2 = plt.subplot(2, 1, 2)\n",
    "\n",
    "ax11.scatter(pred, y_test, alpha=0.2, s=4)\n",
    "ax11.plot(y_test, y_test, '-', c='k')\n",
    "ax11.set_title(\"Model Prediction\")\n",
    "ax11.set_ylabel('true')\n",
    "ax11.set_xlabel('predicted')\n",
    "\n",
    "ax12.scatter(pred, (y_test-pred), alpha=0.2, s=4)\n",
    "ax12.plot([80, 100], [0, 0], '-', c='k')\n",
    "ax12.set_title(\"Residuals\")\n",
    "ax12.set_ylabel('true-predicted')\n",
    "ax12.set_xlabel('predicted')\n",
    "\n",
    "ax2.hist(y_test - pred, bins=\"auto\")\n",
    "ax2.set_title(\"Residuals Distribution\")\n",
    "ax2.set_xlabel(\"y_test - pred\")\n",
    "ax2.set_ylabel(\"count\")\n",
    "\n",
    "plt.tight_layout()"
   ]
  },
  {
   "cell_type": "markdown",
   "metadata": {},
   "source": [
    "### Model fit Word2vec + BOW"
   ]
  },
  {
   "cell_type": "code",
   "execution_count": 88,
   "metadata": {},
   "outputs": [],
   "source": [
    "df_X_train_spacy = pd.DataFrame(data= X_train_spacy, index=X_train_s.index).add_prefix('SCY_')\n",
    "df_X_test_spacy = pd.DataFrame(data= X_test_spacy, index=X_test_s.index).add_prefix('SCY_')"
   ]
  },
  {
   "cell_type": "code",
   "execution_count": 89,
   "metadata": {},
   "outputs": [],
   "source": [
    "X_train_spa_bow_cont = X_train_s.join(df_X_train_spacy)\n",
    "X_test_spa_bow_cont = X_test_s.join(df_X_test_spacy)"
   ]
  },
  {
   "cell_type": "code",
   "execution_count": 90,
   "metadata": {},
   "outputs": [],
   "source": [
    "X_train_spa_bow = X_train_spa_bow_cont.drop(columns=['price', 'taster_name', 'variety', 'winery', 'region_1', 'region_2','designation',])\n",
    "X_test_spa_bow = X_test_spa_bow_cont.drop(columns=['price', 'taster_name', 'variety', 'winery', 'region_1', 'region_2','designation',])"
   ]
  },
  {
   "cell_type": "code",
   "execution_count": 91,
   "metadata": {},
   "outputs": [],
   "source": [
    "cont_transformer = Pipeline(steps=[\n",
    "    ('imputer', SimpleImputer(strategy='median')),\n",
    "    ('scaler', StandardScaler())])\n",
    "\n",
    "cat_low_transformer = Pipeline(steps=[\n",
    "    ('imputer', SimpleImputer(strategy='constant', fill_value='Miss')),\n",
    "    ('onehot', OneHotEncoder(handle_unknown='ignore'))])\n",
    "\n",
    "cat_high_transformer = Pipeline(steps=[\n",
    "    ('targetenc', TargetEncoder()),\n",
    "    ('imputer', SimpleImputer(strategy='median'))])\n",
    "\n",
    "txt_transformer = Pipeline(steps=[\n",
    "    ('countvec', CountVectorizer(ngram_range=(1, 1), min_df=1, stop_words=\"english\"))])\n",
    "\n",
    "preprocessor = ColumnTransformer(\n",
    "    transformers=[('txt_tra', txt_transformer, 'txt')\n",
    "    ], remainder = 'passthrough')"
   ]
  },
  {
   "cell_type": "code",
   "execution_count": 92,
   "metadata": {},
   "outputs": [
    {
     "data": {
      "text/html": [
       "<div>\n",
       "<style scoped>\n",
       "    .dataframe tbody tr th:only-of-type {\n",
       "        vertical-align: middle;\n",
       "    }\n",
       "\n",
       "    .dataframe tbody tr th {\n",
       "        vertical-align: top;\n",
       "    }\n",
       "\n",
       "    .dataframe thead th {\n",
       "        text-align: right;\n",
       "    }\n",
       "</style>\n",
       "<table border=\"1\" class=\"dataframe\">\n",
       "  <thead>\n",
       "    <tr style=\"text-align: right;\">\n",
       "      <th></th>\n",
       "      <th>fit_time</th>\n",
       "      <th>score_time</th>\n",
       "      <th>test_r2</th>\n",
       "      <th>test_neg_mean_squared_error</th>\n",
       "      <th>test_neg_mean_absolute_error</th>\n",
       "      <th>test_explained_variance</th>\n",
       "    </tr>\n",
       "  </thead>\n",
       "  <tbody>\n",
       "    <tr>\n",
       "      <th>0</th>\n",
       "      <td>2.891748</td>\n",
       "      <td>0.078102</td>\n",
       "      <td>0.628769</td>\n",
       "      <td>-3.450151</td>\n",
       "      <td>-1.458086</td>\n",
       "      <td>0.629225</td>\n",
       "    </tr>\n",
       "    <tr>\n",
       "      <th>1</th>\n",
       "      <td>2.858702</td>\n",
       "      <td>0.078106</td>\n",
       "      <td>0.672612</td>\n",
       "      <td>-3.101988</td>\n",
       "      <td>-1.368652</td>\n",
       "      <td>0.673043</td>\n",
       "    </tr>\n",
       "    <tr>\n",
       "      <th>2</th>\n",
       "      <td>2.870157</td>\n",
       "      <td>0.078107</td>\n",
       "      <td>0.637738</td>\n",
       "      <td>-3.238288</td>\n",
       "      <td>-1.400864</td>\n",
       "      <td>0.637870</td>\n",
       "    </tr>\n",
       "    <tr>\n",
       "      <th>3</th>\n",
       "      <td>2.858700</td>\n",
       "      <td>0.078106</td>\n",
       "      <td>0.646126</td>\n",
       "      <td>-3.488782</td>\n",
       "      <td>-1.457337</td>\n",
       "      <td>0.646362</td>\n",
       "    </tr>\n",
       "    <tr>\n",
       "      <th>4</th>\n",
       "      <td>3.233613</td>\n",
       "      <td>0.093729</td>\n",
       "      <td>0.614462</td>\n",
       "      <td>-3.664496</td>\n",
       "      <td>-1.482731</td>\n",
       "      <td>0.614793</td>\n",
       "    </tr>\n",
       "  </tbody>\n",
       "</table>\n",
       "</div>"
      ],
      "text/plain": [
       "   fit_time  score_time   test_r2  test_neg_mean_squared_error  \\\n",
       "0  2.891748    0.078102  0.628769                    -3.450151   \n",
       "1  2.858702    0.078106  0.672612                    -3.101988   \n",
       "2  2.870157    0.078107  0.637738                    -3.238288   \n",
       "3  2.858700    0.078106  0.646126                    -3.488782   \n",
       "4  3.233613    0.093729  0.614462                    -3.664496   \n",
       "\n",
       "   test_neg_mean_absolute_error  test_explained_variance  \n",
       "0                     -1.458086                 0.629225  \n",
       "1                     -1.368652                 0.673043  \n",
       "2                     -1.400864                 0.637870  \n",
       "3                     -1.457337                 0.646362  \n",
       "4                     -1.482731                 0.614793  "
      ]
     },
     "execution_count": 92,
     "metadata": {},
     "output_type": "execute_result"
    }
   ],
   "source": [
    "ridge = Pipeline(steps=[('preprocessor', preprocessor),\n",
    "                      ('Regression', Ridge())])\n",
    "\n",
    "res = cross_validate(ridge, X_train_spa_bow, y_train, scoring=['r2', 'neg_mean_squared_error','neg_mean_absolute_error',\n",
    "                                                         'explained_variance'], return_train_score=False, cv=ss)\n",
    "pd.DataFrame(res)"
   ]
  },
  {
   "cell_type": "code",
   "execution_count": 93,
   "metadata": {},
   "outputs": [
    {
     "name": "stdout",
     "output_type": "stream",
     "text": [
      "Average R^2 in Cross_validation : 0.63994\n",
      "R^2 in the Test set : 0.66140\n"
     ]
    }
   ],
   "source": [
    "ridge.fit(X_train_spa_bow, y_train)\n",
    "test_score = ridge.score(X_test_spa_bow , y_test)\n",
    "print('Average R^2 in Cross_validation : {:.5f}'.format(res['test_r2'].mean()))\n",
    "print('R^2 in the Test set : {:.5f}'.format(test_score))"
   ]
  },
  {
   "cell_type": "markdown",
   "metadata": {},
   "source": [
    "- **Grid-Search with Word2Vec + BOW**"
   ]
  },
  {
   "cell_type": "code",
   "execution_count": 94,
   "metadata": {},
   "outputs": [
    {
     "name": "stdout",
     "output_type": "stream",
     "text": [
      "Ridge best parameters: {'ridge__alpha': 16.23776739188721}\n",
      "Ridge best R^2: 0.71933\n"
     ]
    }
   ],
   "source": [
    "ridge_pipeline = make_pipeline(preprocessor, Ridge(max_iter=5000))\n",
    "ridge_param_grid = {'ridge__alpha': np.logspace(-4, 5, 20)}\n",
    "ridge_gcv = GridSearchCV(ridge_pipeline, param_grid=ridge_param_grid, cv=ss, return_train_score=True)\n",
    "ridge_gcv.fit(X_train_spa_bow, y_train)\n",
    "print('Ridge best parameters: {}'.format(ridge_gcv.best_params_))\n",
    "print('Ridge best R^2: {:.5f}'.format(ridge_gcv.best_score_))"
   ]
  },
  {
   "cell_type": "code",
   "execution_count": 95,
   "metadata": {},
   "outputs": [
    {
     "name": "stdout",
     "output_type": "stream",
     "text": [
      "R^2 in the Test set : 0.74086\n"
     ]
    }
   ],
   "source": [
    "test_accuray_ridge = ridge_gcv.best_estimator_.score(X_test_spa_bow , y_test)\n",
    "print('R^2 in the Test set : {:.5f}'.format(test_accuray_ridge))"
   ]
  },
  {
   "cell_type": "markdown",
   "metadata": {},
   "source": [
    "### Model fit Word2vec + BOW + Continous"
   ]
  },
  {
   "cell_type": "code",
   "execution_count": 96,
   "metadata": {},
   "outputs": [],
   "source": [
    "df_X_train_spacy = pd.DataFrame(data= X_train_spacy, index=X_train_s.index).add_prefix('SCY_')\n",
    "df_X_test_spacy = pd.DataFrame(data= X_test_spacy, index=X_test_s.index).add_prefix('SCY_')"
   ]
  },
  {
   "cell_type": "code",
   "execution_count": 97,
   "metadata": {},
   "outputs": [],
   "source": [
    "X_train_spa_bow_cont = X_train_s.join(df_X_train_spacy)\n",
    "X_test_spa_bow_cont = X_test_s.join(df_X_test_spacy)"
   ]
  },
  {
   "cell_type": "code",
   "execution_count": 98,
   "metadata": {},
   "outputs": [],
   "source": [
    "preprocessor = ColumnTransformer(\n",
    "    transformers=[\n",
    "        ('cont_tra', cont_transformer, ['price']),\n",
    "        ('cat_low_tra', cat_low_transformer, ['taster_name', 'region_2']),\n",
    "        ('cat_high_tra', cat_high_transformer, ['variety', 'winery', 'region_1', 'designation']),\n",
    "        ('txt_tra', txt_transformer, 'txt')\n",
    "    ], remainder = 'passthrough')"
   ]
  },
  {
   "cell_type": "code",
   "execution_count": 99,
   "metadata": {},
   "outputs": [
    {
     "data": {
      "text/html": [
       "<div>\n",
       "<style scoped>\n",
       "    .dataframe tbody tr th:only-of-type {\n",
       "        vertical-align: middle;\n",
       "    }\n",
       "\n",
       "    .dataframe tbody tr th {\n",
       "        vertical-align: top;\n",
       "    }\n",
       "\n",
       "    .dataframe thead th {\n",
       "        text-align: right;\n",
       "    }\n",
       "</style>\n",
       "<table border=\"1\" class=\"dataframe\">\n",
       "  <thead>\n",
       "    <tr style=\"text-align: right;\">\n",
       "      <th></th>\n",
       "      <th>fit_time</th>\n",
       "      <th>score_time</th>\n",
       "      <th>test_r2</th>\n",
       "      <th>test_neg_mean_squared_error</th>\n",
       "      <th>test_neg_mean_absolute_error</th>\n",
       "      <th>test_explained_variance</th>\n",
       "    </tr>\n",
       "  </thead>\n",
       "  <tbody>\n",
       "    <tr>\n",
       "      <th>0</th>\n",
       "      <td>3.892775</td>\n",
       "      <td>0.093728</td>\n",
       "      <td>0.668978</td>\n",
       "      <td>-3.232429</td>\n",
       "      <td>-1.400861</td>\n",
       "      <td>0.669285</td>\n",
       "    </tr>\n",
       "    <tr>\n",
       "      <th>1</th>\n",
       "      <td>3.655393</td>\n",
       "      <td>0.109348</td>\n",
       "      <td>0.661675</td>\n",
       "      <td>-3.140857</td>\n",
       "      <td>-1.364439</td>\n",
       "      <td>0.662005</td>\n",
       "    </tr>\n",
       "    <tr>\n",
       "      <th>2</th>\n",
       "      <td>3.686312</td>\n",
       "      <td>0.078107</td>\n",
       "      <td>0.652140</td>\n",
       "      <td>-3.358013</td>\n",
       "      <td>-1.416997</td>\n",
       "      <td>0.652141</td>\n",
       "    </tr>\n",
       "    <tr>\n",
       "      <th>3</th>\n",
       "      <td>3.794593</td>\n",
       "      <td>0.093727</td>\n",
       "      <td>0.662491</td>\n",
       "      <td>-3.279790</td>\n",
       "      <td>-1.404558</td>\n",
       "      <td>0.662495</td>\n",
       "    </tr>\n",
       "    <tr>\n",
       "      <th>4</th>\n",
       "      <td>3.827782</td>\n",
       "      <td>0.109348</td>\n",
       "      <td>0.658826</td>\n",
       "      <td>-3.140059</td>\n",
       "      <td>-1.361165</td>\n",
       "      <td>0.658943</td>\n",
       "    </tr>\n",
       "  </tbody>\n",
       "</table>\n",
       "</div>"
      ],
      "text/plain": [
       "   fit_time  score_time   test_r2  test_neg_mean_squared_error  \\\n",
       "0  3.892775    0.093728  0.668978                    -3.232429   \n",
       "1  3.655393    0.109348  0.661675                    -3.140857   \n",
       "2  3.686312    0.078107  0.652140                    -3.358013   \n",
       "3  3.794593    0.093727  0.662491                    -3.279790   \n",
       "4  3.827782    0.109348  0.658826                    -3.140059   \n",
       "\n",
       "   test_neg_mean_absolute_error  test_explained_variance  \n",
       "0                     -1.400861                 0.669285  \n",
       "1                     -1.364439                 0.662005  \n",
       "2                     -1.416997                 0.652141  \n",
       "3                     -1.404558                 0.662495  \n",
       "4                     -1.361165                 0.658943  "
      ]
     },
     "execution_count": 99,
     "metadata": {},
     "output_type": "execute_result"
    }
   ],
   "source": [
    "ridge = Pipeline(steps=[('preprocessor', preprocessor),\n",
    "                      ('Regression', Ridge())])\n",
    "\n",
    "res = cross_validate(ridge, X_train_spa_bow_cont, y_train, scoring=['r2', 'neg_mean_squared_error','neg_mean_absolute_error',\n",
    "                                                         'explained_variance'], return_train_score=False, cv=ss)\n",
    "pd.DataFrame(res)"
   ]
  },
  {
   "cell_type": "code",
   "execution_count": 100,
   "metadata": {},
   "outputs": [
    {
     "name": "stdout",
     "output_type": "stream",
     "text": [
      "Average R^2 in Cross_validation : 0.66082\n",
      "R^2 in the Test set : 0.69361\n"
     ]
    }
   ],
   "source": [
    "ridge.fit(X_train_spa_bow_cont, y_train)\n",
    "test_score = ridge.score(X_test_spa_bow_cont , y_test)\n",
    "print('Average R^2 in Cross_validation : {:.5f}'.format(res['test_r2'].mean()))\n",
    "print('R^2 in the Test set : {:.5f}'.format(test_score))"
   ]
  },
  {
   "cell_type": "markdown",
   "metadata": {},
   "source": [
    "- **Grid-Search with Word2Vec + BOW + continous**"
   ]
  },
  {
   "cell_type": "code",
   "execution_count": 101,
   "metadata": {},
   "outputs": [
    {
     "name": "stdout",
     "output_type": "stream",
     "text": [
      "Ridge best parameters: {'ridge__alpha': 16.23776739188721}\n",
      "Ridge best R^2: 0.73681\n"
     ]
    }
   ],
   "source": [
    "ridge_pipeline = make_pipeline(preprocessor, Ridge(max_iter=5000))\n",
    "ridge_param_grid = {'ridge__alpha': np.logspace(-4, 5, 20)}\n",
    "ridge_gcv = GridSearchCV(ridge_pipeline, param_grid=ridge_param_grid, cv=ss, return_train_score=True)\n",
    "ridge_gcv.fit(X_train_spa_bow_cont, y_train)\n",
    "print('Ridge best parameters: {}'.format(ridge_gcv.best_params_))\n",
    "print('Ridge best R^2: {:.5f}'.format(ridge_gcv.best_score_))"
   ]
  },
  {
   "cell_type": "code",
   "execution_count": 102,
   "metadata": {},
   "outputs": [
    {
     "name": "stdout",
     "output_type": "stream",
     "text": [
      "R^2 in the Test set : 0.75779\n"
     ]
    }
   ],
   "source": [
    "test_accuray_ridge = ridge_gcv.best_estimator_.score(X_test_spa_bow_cont , y_test)\n",
    "print('R^2 in the Test set : {:.5f}'.format(test_accuray_ridge))"
   ]
  },
  {
   "cell_type": "code",
   "execution_count": 104,
   "metadata": {
    "scrolled": false
   },
   "outputs": [
    {
     "data": {
      "image/png": "[encoded data removed]",
      "text/plain": [
       "<Figure size 864x504 with 3 Axes>"
      ]
     },
     "metadata": {
      "needs_background": "light"
     },
     "output_type": "display_data"
    }
   ],
   "source": [
    "pred = ridge_gcv.best_estimator_.predict(X_test_spa_bow_cont)\n",
    "\n",
    "plt.figure(figsize=(12,7))\n",
    "ax11 = plt.subplot(2, 2, 1)\n",
    "ax12 = plt.subplot(2, 2, 2)\n",
    "ax2 = plt.subplot(2, 1, 2)\n",
    "\n",
    "ax11.scatter(pred, y_test, alpha=0.2, s=4)\n",
    "ax11.plot(y_test, y_test, '-', c='k')\n",
    "ax11.set_title(\"Model Prediction\")\n",
    "ax11.set_ylabel('true')\n",
    "ax11.set_xlabel('predicted')\n",
    "\n",
    "ax12.scatter(pred, (y_test-pred), alpha=0.2, s=4)\n",
    "ax12.plot([80, 100], [0, 0], '-', c='k')\n",
    "ax12.set_title(\"Residuals\")\n",
    "ax12.set_ylabel('true-predicted')\n",
    "ax12.set_xlabel('predicted')\n",
    "\n",
    "ax2.hist(y_test - pred, bins=\"auto\")\n",
    "ax2.set_title(\"Residuals Distribution\")\n",
    "ax2.set_xlabel(\"y_test - pred\")\n",
    "ax2.set_ylabel(\"count\")\n",
    "\n",
    "plt.tight_layout()"
   ]
  },
  {
   "cell_type": "markdown",
   "metadata": {},
   "source": [
    "**From the reuslts of this second task we can conclude that:**\n",
    "- **Word2Vec methodology by itself is not better than BOW plain vanilla or the Tunned version of BOW that we presented in Task 1.**\n",
    "\n",
    "- **The combination of Word2Vec and BOW gives us a similar $R^2$ than the combined model BOW + Non-text features, so we can say that some how the context provided from the Word2Vec methodology is responsable of that gain in the $R^2$.**\n",
    "\n",
    "- **Finally, we can observe that a combinated model Word2Vec + BOW + Non-text features, gives us the best $R^2$ of all estimation procedures.**"
   ]
  }
 ],
 "metadata": {
  "kernelspec": {
   "display_name": "Python 3",
   "language": "python",
   "name": "python3"
  },
  "language_info": {
   "codemirror_mode": {
    "name": "ipython",
    "version": 3
   },
   "file_extension": ".py",
   "mimetype": "text/x-python",
   "name": "python",
   "nbconvert_exporter": "python",
   "pygments_lexer": "ipython3",
   "version": "3.7.3"
  }
 },
 "nbformat": 4,
 "nbformat_minor": 4
}
